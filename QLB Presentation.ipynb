{
 "metadata": {
  "celltoolbar": "Slideshow",
  "name": "",
  "signature": "sha256:daffd45153f81b3dbef212ab37e6c38e347a9e1d9885e71d631dbb528cdc4854"
 },
 "nbformat": 3,
 "nbformat_minor": 0,
 "worksheets": [
  {
   "cells": [
    {
     "cell_type": "markdown",
     "metadata": {
      "slideshow": {
       "slide_type": "slide"
      }
     },
     "source": [
      "# Quantum Lattice Boltzmann method: An introduction#\n",
      "## Iv\u00e1n Jos\u00e9 Pulido Sanchez ##\n",
      "#### ijpulidos@unal.edu.co - twitter: [ijpulidos](http://www.twitter.com/ijpulidos) ####\n",
      "### Grupo de Simulaci\u00f3n de Sistemas F\u00edsicos ###\n",
      "### Universidad Nacional de Colombia ###\n",
      "### Bogot\u00e1, Colombia ###\n",
      "#### Mayo 21 de 2014 ####\n",
      "\n",
      "<img src=\"images/logo.png\" style=\"float:left;\"> \n",
      "<img src=\"images/UN_logo.png\" style=\"width:400px\">"
     ]
    },
    {
     "cell_type": "markdown",
     "metadata": {
      "slideshow": {
       "slide_type": "slide"
      }
     },
     "source": [
      "# Objectives\n",
      "\n",
      "1. Review and extend my current knowledge in Quantum Mechanics and simulating physics with computers. Also, while doing that, obtain my title as a \"_Physicist_\" for it.\n",
      "2. Implement a Lattice Boltzmann method for Quantum Mechanics (Quantum Lattice Boltzmann method or QLB) and validate it for common well-known cases.\n",
      "3. Develop and publish a ready-to-use code for others to study and built from it.\n",
      "4. If possible, extend the method to interesting and popular areas of research in current physics."
     ]
    },
    {
     "cell_type": "markdown",
     "metadata": {
      "slideshow": {
       "slide_type": "subslide"
      }
     },
     "source": [
      "# Motivation (why?)\n",
      "* Most interesting problems in Quantum Mechanics and different areas using it must be solved numerically.\n",
      "* With the possible upcoming of quantum computing technology it's interesting to study simulating fundamental physics with computers (in general).\n",
      "* Possible direct applications into quantum information processing and/or entanglement.\n",
      "\n",
      "<img src=images/entangled.jpg style=\"height:350px\">"
     ]
    },
    {
     "cell_type": "markdown",
     "metadata": {
      "slideshow": {
       "slide_type": "fragment"
      }
     },
     "source": [
      "* Last but not least... why not? Doing it just for the fun is also valid! "
     ]
    },
    {
     "cell_type": "markdown",
     "metadata": {
      "slideshow": {
       "slide_type": "slide"
      }
     },
     "source": [
      "# Introduction\n",
      "## Time Dependent Schr\u00f6dinger Equation\n",
      "<img src=images/erwin_schrodinger.jpg style=\"height:200px; float:right;\">\n",
      "A quantum system (using wave mechanics approach) evolves in time according to\n",
      "$$\n",
      "i \\hbar {\\partial \\over \\partial t} \\psi(x,\\,t)= -{\\hbar^2 \\over 2m}{\\partial^2 \\over \\partial x^2} \\psi(x,\\,t)+ V(x)\\psi(x,\\,t)\\,\n",
      "$$"
     ]
    },
    {
     "cell_type": "markdown",
     "metadata": {
      "slideshow": {
       "slide_type": "fragment"
      }
     },
     "source": [
      "Which can be solved using separation of variables (time-independent potential) to get\n",
      "$$\n",
      "\\psi(x,t) = \\exp\\left(-\\frac{iHt}{\\hbar} \\right)\\psi(x,0)\n",
      "$$\n",
      "Where $U = \\exp\\left(-\\frac{iHt}{\\hbar} \\right)$ is the so called time evolution operator. It is **unitary** and satifies _composition_."
     ]
    },
    {
     "cell_type": "markdown",
     "metadata": {
      "slideshow": {
       "slide_type": "subslide"
      }
     },
     "source": [
      "# Introduction\n",
      "## Example: Free Gaussian wave packet evolution\n",
      "\n",
      "$$\n",
      " \\text{Wave function time evolution} \\ \\ \\  \\Psi(x,t)=\\frac{1}{\\sqrt{2\\pi}}\\int_{-\\infty}^{\\infty}\\phi(k)e^{i\\left(\n",
      "kx-\\frac{\\hbar k^2}{2m}t \\right) }dk \n",
      "$$\n",
      "$$\n",
      "\\text{where} \\ \\ \\phi(k)=\\frac{1}{\\sqrt{2\\pi}}\\int_{-\\infty}^{\\infty}\\Psi(x,0)e^{-ikx}dx\n",
      "$$\n",
      "\n",
      "$$\n",
      "\\text{Mean value and dispersion evolution} \\ \\ \\ X(t)=\\mu_0 + \\beta t;  \\ \\ \\ \\ \\ \\ \\sigma (t) = \\sigma_0^2 + \\frac{t^2}{4m^2\\sigma_0^2}\n",
      "$$\n",
      "<img src=images/GaussianWavePacketEvolution.gif style=\"height:250px; float:right;\">\n",
      "<img src=images/GaussianWavePacket.svg style=\"height:300px; float:left\">\n"
     ]
    },
    {
     "cell_type": "code",
     "collapsed": false,
     "input": [],
     "language": "python",
     "metadata": {},
     "outputs": []
    }
   ],
   "metadata": {}
  }
 ]
}
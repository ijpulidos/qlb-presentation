{
 "metadata": {
  "name": "",
  "signature": "sha256:fed561e6744d64aecb51da1f6609ba12c0b80deb0768b2c53f82eff03c382853"
 },
 "nbformat": 3,
 "nbformat_minor": 0,
 "worksheets": [
  {
   "cells": [
    {
     "cell_type": "markdown",
     "metadata": {
      "internals": {
       "slide_helper": "subslide_end",
       "slide_type": "subslide"
      },
      "slide_helper": "slide_end",
      "slideshow": {
       "slide_type": "slide"
      }
     },
     "source": [
      "# Quantum Lattice Boltzmann method: Brief introduction and implementation#\n",
      "## Iv\u00e1n Jos\u00e9 Pulido Sanchez ## \n",
      "#### ijpulidos@unal.edu.co - twitter: @[ijpulidos](http://www.twitter.com/ijpulidos) - github: [ijpulidos](https://github.com/ijpulidos) ####\n",
      "### Grupo de Simulaci\u00f3n de Sistemas F\u00edsicos, Universidad Nacional de Colombia ###\n",
      "<img src=\"images/logo.png\" style=\"float:right; height:90px\"> \n",
      "<img src=\"images/UN_logo.png\" style=\"float:right; width:220px\">\n",
      "### Bogot\u00e1, Colombia ###\n",
      "#### Octubre 28 de 2014 ####\n",
      "\n"
     ]
    },
    {
     "cell_type": "markdown",
     "metadata": {
      "internals": {
       "slide_helper": "subslide_end",
       "slide_type": "subslide"
      },
      "slide_helper": "subslide_end",
      "slideshow": {
       "slide_type": "slide"
      }
     },
     "source": [
      "# Objectives\n",
      "\n",
      "1. Implement a Lattice Boltzmann method for Quantum Mechanics (Quantum Lattice Boltzmann method or QLB) and validate it for common well-known cases.\n",
      "2. Develop and publish a ready-to-use code for others to study and built from it.\n",
      "3. Review and extend my current knowledge in Quantum Mechanics and simulating physics with computers. Also, while doing that, obtain my title as a \"_Physicist_\" for it.\n",
      "4. If possible, extend the method to interesting and popular areas of research in current physics."
     ]
    },
    {
     "cell_type": "markdown",
     "metadata": {
      "internals": {
       "slide_type": "subslide"
      },
      "slideshow": {
       "slide_type": "subslide"
      }
     },
     "source": [
      "# Motivation (why?)\n",
      "* Most interesting problems in Quantum Mechanics and different areas using it must be solved numerically.\n",
      "* With the possible upcoming of quantum computing technology it's interesting to study simulating fundamental physics with computers (in general).\n",
      "* Possible direct applications into quantum information processing and/or entanglement.\n",
      "\n",
      "<img src=images/entangled.jpg style=\"float:middle; height:200px\">"
     ]
    },
    {
     "cell_type": "markdown",
     "metadata": {
      "internals": {
       "frag_number": 3,
       "slide_helper": "subslide_end"
      },
      "slide_helper": "slide_end",
      "slideshow": {
       "slide_type": "fragment"
      }
     },
     "source": [
      "* Last but not least... why not? Doing it just for the fun is also valid! "
     ]
    },
    {
     "cell_type": "markdown",
     "metadata": {
      "internals": {
       "frag_helper": "fragment_end",
       "frag_number": 3,
       "slide_type": "subslide"
      },
      "slideshow": {
       "slide_type": "slide"
      }
     },
     "source": [
      "# Introduction\n",
      "## Time Dependent Schr\u00f6dinger Equation\n",
      "A free quantum system (using wave mechanics approach) evolves in time according to\n",
      "$$\n",
      "i \\hbar {\\partial \\over \\partial t} \\psi(x,\\,t)= -{\\hbar^2 \\over 2m}{\\partial^2 \\over \\partial x^2} \\psi(x,\\,t)\\,\n",
      "$$"
     ]
    },
    {
     "cell_type": "markdown",
     "metadata": {
      "internals": {
       "frag_helper": "fragment_end",
       "frag_number": 5,
       "slide_helper": "subslide_end"
      },
      "slide_helper": "subslide_end",
      "slideshow": {
       "slide_type": "fragment"
      }
     },
     "source": [
      "Which can be seen as a complex diffusion equation\n",
      "<!-- <img src=images/erwin_schrodinger.jpg style=\"height:160px; float:right;\"> -->\n",
      "\n",
      "$$\n",
      "\\frac{\\partial\\phi(\\mathbf{r},t)}{\\partial t} = D{\\partial^2 \\over \\partial x^2} \\phi(\\mathbf{r},t)\n",
      "$$\n",
      "\n",
      "with complex diffussion coefficient\n",
      "\n",
      "$$\n",
      "D = -\\frac{i\\hbar}{2m}\n",
      "$$\n"
     ]
    },
    {
     "cell_type": "markdown",
     "metadata": {
      "internals": {
       "frag_helper": "fragment_end",
       "frag_number": 5,
       "slide_helper": "subslide_end",
       "slide_type": "subslide"
      },
      "slide_helper": "slide_end",
      "slideshow": {
       "slide_type": "subslide"
      }
     },
     "source": [
      "# Introduction\n",
      "## Example: Free Gaussian wave packet evolution\n",
      "$$\n",
      "   \\Psi(x,t)=\\frac{1}{\\sqrt{2\\pi}}\\int_{-\\infty}^{\\infty}\\phi(k)e^{i\\left(\n",
      "kx-\\frac{\\hbar k^2}{2m}t \\right) }dk \n",
      "$$\n",
      "$$\n",
      "\\text{where} \\ \\ \\phi(k)=\\frac{1}{\\sqrt{2\\pi}}\\int_{-\\infty}^{\\infty}\\Psi(x,0)e^{-ikx}dx\n",
      "$$\n",
      "\n",
      "Mean value and dispersion evolution\n",
      "\n",
      "$$\n",
      "X(t)=\\mu_0 + \\beta t; \n",
      "$$\n",
      "$$\n",
      "\\ \\ \\ \\ \\ \\ \\sigma (t) = \\sigma_0^2 + \\frac{t^2}{4m^2\\sigma_0^2}\n",
      "$$\n",
      "<img src=images/GaussianWavePacketEvolution.gif style=\"height:170px; width:600px; float:center;\">\n",
      "<!-- <img src=images/GaussianWavePacket.svg style=\"width:600px;\"> -->"
     ]
    },
    {
     "cell_type": "markdown",
     "metadata": {
      "internals": {
       "frag_helper": "fragment_end",
       "frag_number": 5,
       "slide_helper": "subslide_end",
       "slide_type": "subslide"
      },
      "slide_helper": "subslide_end",
      "slideshow": {
       "slide_type": "slide"
      }
     },
     "source": [
      "# Quantum Lattice Boltzmann\n",
      "## Quantum Celullar Automata (Meyer's Scheme - 1996)\n",
      "\n",
      "* Based on the classical difussion model with a complex difussion constant (Quantum Lattice Gas automata).\n",
      "* Propagation of wave functions themselves (not particles).\n",
      "* Inspired by quantum computers. Quantum paralelism.\n",
      "\n",
      "$$\n",
      "\\psi(x,t) = \\left( \\phi_t^{(r)}(x), \\phi_t^{(l)}(x) \\right)^T\n",
      "$$\n",
      "\n",
      "[Meyer D., From quantum cellular automata to quantum lattice gases (1996)](http://arxiv.org/abs/quant-ph/9604003)"
     ]
    },
    {
     "cell_type": "markdown",
     "metadata": {
      "internals": {
       "frag_helper": "fragment_end",
       "frag_number": 5,
       "slide_helper": "subslide_end",
       "slide_type": "subslide"
      },
      "slide_helper": "subslide_end",
      "slideshow": {
       "slide_type": "subslide"
      }
     },
     "source": [
      "## Lattice Gas\n",
      "<img src=images/agua.jpg style=\"float:right; width:400px;\">\n",
      "We define a fictitious and simplified microworld such that in the macro scale we can recover the expected fluid dynamics.\n",
      "\n",
      "$$\n",
      "\\phi_{t+1} = f\\left(\\phi_t(x+e)| e \\in E(t,x)\\right)\n",
      "$$\n",
      "\n",
      "Things to consider with QCA:\n",
      "\n",
      "* Quantum Mechanics requires unitary and homogeneous evolution.\n",
      "\n",
      "* NO-GO Lemma: \"_In 1D there exists no nontrivial, homogeneous, local, scalar QCA._\"\n",
      "\n",
      "Relax homogeneity to surpass NO-GO. Requiring $T^2UT^{-2} = U$.\n"
     ]
    },
    {
     "cell_type": "markdown",
     "metadata": {
      "internals": {
       "frag_helper": "fragment_end",
       "frag_number": 5,
       "slide_helper": "subslide_end",
       "slide_type": "subslide"
      },
      "slide_helper": "subslide_end",
      "slideshow": {
       "slide_type": "subslide"
      }
     },
     "source": [
      "## Quantum Celullar Automata (Meyer's Scheme)\n",
      "### Lattice Gas Automata\n",
      "$$U = T^2UT^{-2}$$\n",
      "<img src=images/no_uniforme.png style=\"height:210px; width:800px; align:middle;\">\n",
      "$$\n",
      "U = \\begin{pmatrix}\n",
      "\\ddots & & & & & & & \\\\\n",
      " & a & b & c & & & & \\\\\n",
      " & & d & e & f & & & \\\\\n",
      " & & & a & b & c & & \\\\\n",
      " & & & & d & e & f & \\\\\n",
      " & & & & & & & \\ddots \\\\\n",
      "\\end{pmatrix}\n",
      "$$"
     ]
    },
    {
     "cell_type": "markdown",
     "metadata": {
      "internals": {
       "frag_helper": "fragment_end",
       "frag_number": 5,
       "slide_helper": "subslide_end",
       "slide_type": "subslide"
      },
      "slide_helper": "subslide_end",
      "slideshow": {
       "slide_type": "subslide"
      }
     },
     "source": [
      "## Quantum Celullar Automata (Meyer's Scheme)\n",
      "### Lattice Gas Automata\n",
      "And from unitarity condition $UU*=I$ it follows that\n",
      "$$\n",
      "\\begin{align*}\n",
      "a\\bar{a} + b\\bar{b} + c\\bar{c} &= 1  &d\\bar{d} + e\\bar{e} + f\\bar{f} &= 1 \\\\\n",
      "b\\bar{d}+c\\bar{e} &= 0  &e\\bar{a} +f\\bar{b} &= 0 \\\\\n",
      "c\\bar{a} &= 0  &f\\bar{d} &= 0\n",
      "\\end{align*}\n",
      "$$\n",
      "With solutions $c=d=0$ and unitary matrix\n",
      "$$\n",
      "S =\n",
      "\\begin{pmatrix}\n",
      "e & f \\\\\n",
      "a & b\n",
      "\\end{pmatrix}\n",
      "$$"
     ]
    },
    {
     "cell_type": "markdown",
     "metadata": {
      "internals": {
       "frag_helper": "fragment_end",
       "frag_number": 5,
       "slide_type": "subslide"
      },
      "slideshow": {
       "slide_type": "subslide"
      }
     },
     "source": [
      "# Quantum Lattice Boltzmann: Succi's Scheme (1993)\n",
      "\n",
      "### From Dirac's equation (1928)\n",
      "\\begin{equation}\n",
      " \\left(\\partial_t + c\\vec{\\alpha}\\cdot \\mathbf{\\nabla}\\right)\\psi = -i \\omega_c \n",
      "\\beta \\psi\n",
      "\\end{equation}\n",
      "\n",
      "* Balance between time and spatial derivatives.\n",
      "* $\\psi$ is a quadrispinor $\\rightarrow \\psi = (\\phi_1^+,\\phi_2^+,\\phi_1^-,\\phi_2^-)$\n",
      "* Indices $\\pm$ represent positive and negative energies, respectively. Analogous to \"right\" and \"left\" propagation in QCA.\n",
      "* Indices $1$ and $2$ respresent spin states."
     ]
    },
    {
     "cell_type": "markdown",
     "metadata": {
      "internals": {
       "frag_helper": "fragment_end",
       "frag_number": 12,
       "slide_helper": "subslide_end"
      },
      "slide_helper": "subslide_end",
      "slideshow": {
       "slide_type": "fragment"
      }
     },
     "source": [
      "### Why calling it Lattice-Boltzmann?\n",
      "\n",
      "* Formal parallel between LBE $\\rightarrow$ Navier-Stokes and  Dirac $\\rightarrow$ Schr\u00f6dinger\n",
      "* Based on the discretization of Dirac's equation.\n",
      "* Easier to implement in classical computers. Clasical paralelism.\n"
     ]
    },
    {
     "cell_type": "markdown",
     "metadata": {
      "internals": {
       "frag_helper": "fragment_end",
       "frag_number": 12,
       "slide_helper": "subslide_end",
       "slide_type": "subslide"
      },
      "slide_helper": "subslide_end",
      "slideshow": {
       "slide_type": "subslide"
      }
     },
     "source": [
      "# Quantum Lattice Boltzmann\n",
      "## Succi's Scheme\n",
      "Dirac equation (Majorana form) \n",
      "\n",
      "$$\n",
      "\\partial_t \\psi + c(-\\alpha^x\\partial_x+ \\beta\\partial_y-\\alpha^z\\partial_z)\\psi = -i\\omega_c\\alpha^y\\psi\n",
      "$$\n",
      "\n",
      "Boltzmann equation\n",
      "$$\n",
      "\\partial_tf_i + c_{ia}\\partial_af_i = \\sum_{j=1}^bA_{ij}(f_j-f_j^{eq})\n",
      "$$\n",
      "\n",
      "Therefore, by direct comparison\n",
      "* $f_i \\rightarrow \\psi_j $, but $b:=4$ (fixed condition)\n",
      "* $c_i\\rightarrow \\vec{L}\\equiv c\\left(-\\alpha^x,\\beta,-\\alpha^z\\right)$, but it is impossible to simultaneously diagonalize $\\vec{L}$.\n",
      "* $A\\rightarrow -i\\omega_c\\alpha^y\\equiv M$, but $A$ is symmetric while $M$ is antisymmetric."
     ]
    },
    {
     "cell_type": "markdown",
     "metadata": {
      "internals": {
       "frag_helper": "fragment_end",
       "frag_number": 12,
       "slide_type": "subslide"
      },
      "slideshow": {
       "slide_type": "subslide"
      }
     },
     "source": [
      "# Quantum Lattice Boltzmann: Succi's Scheme\n",
      "Writing in matrix form the Majorana equation\n",
      "$$\n",
      "\\partial_t \\begin{pmatrix} \\phi^+ \\\\ \\phi^-  \\end{pmatrix} + \\begin{pmatrix} 0 & \n",
      "1 \\\\ 1 & 0 \\end{pmatrix} \\partial_z \\begin{pmatrix}\\phi^+ \\\\ \\phi^- \n",
      "\\end{pmatrix} = -im \\begin{pmatrix} \\phi^+ \\\\ \\phi^- \\end{pmatrix}\n",
      "$$\n",
      "Which can be diagonalized by $U = \\frac{1}{\\sqrt{2}} \\begin{pmatrix} 1 \n",
      "& 1 \\\\ -i & i \\end{pmatrix}$ (Hadamard transformation), such that\n",
      "\n",
      "$\\partial_t u + \\partial_z u = md$ and $\\partial_t d - \\partial_z d = -mu$\n",
      "\n",
      "where $\\begin{pmatrix}u \\\\ d \\end{pmatrix} = U \\begin{pmatrix} \\phi^+ \\\\ \n",
      "\\phi^-\\end{pmatrix}$"
     ]
    },
    {
     "cell_type": "markdown",
     "metadata": {
      "internals": {
       "frag_helper": "fragment_end",
       "frag_number": 15,
       "slide_helper": "subslide_end"
      },
      "slide_helper": "subslide_end",
      "slideshow": {
       "slide_type": "fragment"
      }
     },
     "source": [
      "Discretizing the matrix equations we get \n",
      "$$\n",
      "u(z+\\Delta z, t+\\Delta t) - u(z,t) = \\frac{1}{2}m\\Delta t \n",
      "\\left[ d(z-\\Delta z, t + \\Delta t) + d(z,t) \\right]\n",
      "$$\n",
      "$$\n",
      "d(z-\\Delta z, t+\\Delta t) - d(z,t) = \\frac{1}{2}m\\Delta t \n",
      "\\left[ u(z+\\Delta z, t + \\Delta t) + u(z,t) \\right]\n",
      "$$"
     ]
    },
    {
     "cell_type": "markdown",
     "metadata": {
      "internals": {
       "frag_helper": "fragment_end",
       "frag_number": 15,
       "slide_helper": "subslide_end",
       "slide_type": "subslide"
      },
      "slide_helper": "slide_end",
      "slideshow": {
       "slide_type": "subslide"
      }
     },
     "source": [
      "# Quantum Lattice Boltzmann\n",
      "## Succi's Scheme\n",
      "And if we solve these last two algebraic equation, we finally get\n",
      "$$\n",
      "\\boxed{u(z+\\Delta z, t+\\Delta t) = a(z,t)u(z,t) + b(z,t)d(z,t)}\n",
      "$$\n",
      "$$\n",
      "\\boxed{d(z-\\Delta z, t+\\Delta t) = a(z,t)d(z,t) - b(z,t)u(z,t)}\n",
      "$$\n",
      "where\n",
      "$$\n",
      "a(z,t) = \\frac{1 - \\frac{1}{4}\\Delta t^2m^2-g(z,t)^2}{1- ig(z,t)\\Delta t + \\frac{1}{4}\\Delta t^2(m^2-g(z,t)^2)}, \\\\ b(z,t) = \\frac{m\\Delta t}{1-ig(z,t)\\Delta t + \\frac{1}{4}\\Delta t^2(m^2-g(z,t)^2)}\n",
      "$$"
     ]
    },
    {
     "cell_type": "markdown",
     "metadata": {
      "internals": {
       "frag_helper": "fragment_end",
       "frag_number": 15,
       "slide_helper": "subslide_end",
       "slide_type": "subslide"
      },
      "slide_helper": "subslide_end",
      "slideshow": {
       "slide_type": "slide"
      }
     },
     "source": [
      "# Calculating energy eigenvalues and eigenfunctions\n",
      "Theoretically the time evolution is given by\n",
      "\n",
      "$$\n",
      "\\psi(x,t+\\Delta t) = U\\psi(x,t)\n",
      "$$\n",
      "\n",
      "where $U = \\exp\\left(-\\frac{iH\\Delta t}{\\hbar} \\right)$. If we expand $U$ in taylor series, we get\n",
      "\n",
      "$$\n",
      "U = \\sum_n{{\\left(\\frac{-iH\\Delta t}{\\hbar}\\right)^n} \\over n!} = 1 - \\frac{iH\\Delta t}{\\hbar} + \\frac{i^2H^2\\Delta t^2}{\\hbar^2} - \\ldots\n",
      "$$\n",
      "\n",
      "If we let it act on a known energy eigenstate $\\psi$ then\n",
      "\n",
      "$$\n",
      "U\\psi=\\left(1 - \\frac{iH\\Delta t}{\\hbar} + \\frac{i^2H^2\\Delta t^2}{\\hbar^2} - \\ldots \\right)\\psi = \\left(1 - \\frac{i\\lambda \\Delta t}{\\hbar} + \\frac{i^2\\lambda^2\\Delta t^2}{\\hbar^2} - \\ldots \\right)\\psi = \\exp\\left(-\\frac{i\\lambda\\Delta t}{\\hbar} \\right)\n",
      "$$"
     ]
    },
    {
     "cell_type": "markdown",
     "metadata": {
      "internals": {
       "frag_helper": "fragment_end",
       "frag_number": 15,
       "slide_type": "subslide"
      },
      "slideshow": {
       "slide_type": "subslide"
      }
     },
     "source": [
      "Therefore\n",
      "\n",
      "$$\n",
      "\\lambda_i = \\frac{i\\hbar}{\\Delta t}\\ln{\\alpha_i}\n",
      "$$\n",
      "\n",
      "where $\\alpha_i$ is an eigenvalue of $U$. Therefore computing its eigenvalues is analog to computing energy eigenvalues.\n",
      "\n",
      "In the QLB Method the evolution is given in terms of discrete spinors and matrices, such that:\n",
      "\n",
      "$$\n",
      "\\begin{pmatrix}\n",
      "\\psi^0 \\\\\n",
      "\\psi^1 \\\\\n",
      "\\vdots \\\\\n",
      "\\psi^L\n",
      "\\end{pmatrix}_{t+1}\n",
      "=\n",
      "T\\cdot \n",
      "\\begin{pmatrix}\n",
      "\\psi^0 \\\\\n",
      "\\psi^1 \\\\\n",
      "\\vdots \\\\\n",
      "\\psi^L\n",
      "\\end{pmatrix}_t\n",
      "$$\n",
      "Where T is our time evolution matrix and can be separated into two steps, collision and advection operators, $C$ and $A$, respectively, such that $T=A\\cdot C$. In conclusion we compute the eigenvalues and eigenfunctions of the matrix $T$."
     ]
    },
    {
     "cell_type": "markdown",
     "metadata": {
      "internals": {
       "frag_helper": "fragment_end",
       "frag_number": 15,
       "slide_helper": "subslide_end"
      },
      "slide_helper": "slide_end",
      "slideshow": {
       "slide_type": "notes"
      }
     },
     "source": [
      "Remember the time evolution operator? The theoretical is $U = \\exp\\left(-\\frac{iHt}{\\hbar} \\right)$, but in my case the matrix relating $t$ to $t+\\Delta t$ is \n",
      "$$A = \\begin{pmatrix}\n",
      " B & 0 & 0 & \\ldots & 0 \\\\\n",
      " 0 & B & 0 & \\ldots & 0 \\\\\n",
      " 0 & 0 & B & \\ldots & 0 \\\\\n",
      " \\vdots & \\vdots & \\vdots & \\ddots & \\vdots \\\\\n",
      " 0 & 0 & 0 & \\ldots & B\n",
      "\\end{pmatrix}\n",
      "\\ \\ \\ \\ \\ \\text{where}\\ \\ \\ \\ \\  \n",
      "B = \\begin{pmatrix}\n",
      "a & 0 & b & 0 \\\\\n",
      "0 & a & 0 & b \\\\\n",
      "-b & 0 & a & 0 \\\\\n",
      "0 & -b & 0 & a\n",
      "\\end{pmatrix}\n",
      "$$\n",
      "and \n",
      "$$\n",
      "a(z,t) = \\frac{1 - \\frac{1}{4}\\Delta t^2m^2-g(z,t)^2}{1- ig(z,t)\\Delta t + \\frac{1}{4}\\Delta t^2(m^2-g(z,t)^2)}\n",
      "$$\n",
      "$$\n",
      "b(z,t) = \\frac{m\\Delta t}{1-ig(z,t)\\Delta t + \\frac{1}{4}\\Delta t^2(m^2-g(z,t)^2)}\n",
      "$$\n",
      "such that\n",
      "$$\n",
      "\\psi(t+\\Delta t) = A \\cdot \\psi(t)\n",
      "$$\n",
      "\n",
      "### How to find eigenvalues/functions? I'm having problems with that.\n",
      "This is just solved using the translation matrix added to the collision one. In my case I only have the collision."
     ]
    },
    {
     "cell_type": "markdown",
     "metadata": {
      "internals": {
       "frag_helper": "fragment_end",
       "frag_number": 15,
       "slide_type": "subslide"
      },
      "slideshow": {
       "slide_type": "slide"
      }
     },
     "source": [
      "# Results\n",
      "## Time evolution of a free gaussian wave packet\n",
      "<img src=images/psi2vst.png style=\"width:400px; float:left;\">\n",
      "<img src=images/sigmavst.png style=\"width:400px; float:right;\">"
     ]
    },
    {
     "cell_type": "markdown",
     "metadata": {
      "internals": {
       "frag_helper": "fragment_end",
       "frag_number": 21,
       "slide_helper": "subslide_end"
      },
      "slide_helper": "subslide_end",
      "slideshow": {
       "slide_type": "fragment"
      }
     },
     "source": [
      "### These are the same results that Valdivieso and Mu\u00f1oz obtained in their [paper](http://iopscience.iop.org/1742-5468/2009/06/P06004/fulltext/)."
     ]
    },
    {
     "cell_type": "markdown",
     "metadata": {
      "internals": {
       "frag_helper": "fragment_end",
       "frag_number": 21,
       "slide_helper": "subslide_end",
       "slide_type": "subslide"
      },
      "slide_helper": "subslide_end",
      "slideshow": {
       "slide_type": "subslide"
      }
     },
     "source": [
      "# Results\n",
      "## Time evolution of a free gaussian wave packet (animation)\n",
      "<video controls src=\"animations/animation_free.mp4\" style=\"width:700px\">"
     ]
    },
    {
     "cell_type": "markdown",
     "metadata": {
      "internals": {
       "frag_helper": "fragment_end",
       "frag_number": 21,
       "slide_helper": "subslide_end",
       "slide_type": "subslide"
      },
      "slide_helper": "subslide_end",
      "slideshow": {
       "slide_type": "subslide"
      }
     },
     "source": [
      "# Results\n",
      "## Time evolution of a gaussian wave packet inside a square potential well\n",
      "<video controls src=\"animations/animation_squarewell.mp4\" style=\"width:700px\">"
     ]
    },
    {
     "cell_type": "markdown",
     "metadata": {
      "internals": {
       "frag_helper": "fragment_end",
       "frag_number": 21,
       "slide_type": "subslide"
      },
      "slideshow": {
       "slide_type": "subslide"
      }
     },
     "source": [
      "## In the future I hope to...\n",
      "* Implement spin and magnetic field interaction.\n",
      "* Validate with more complicated potentials.\n",
      "* **Idea**: Extend the method to see if it's possible to do quantum information processing simulations with it."
     ]
    },
    {
     "cell_type": "markdown",
     "metadata": {
      "internals": {
       "frag_helper": "fragment_end",
       "frag_number": 21,
       "slide_helper": "subslide_end"
      },
      "slide_helper": "slide_end",
      "slideshow": {
       "slide_type": "-"
      }
     },
     "source": []
    }
   ],
   "metadata": {}
  }
 ]
}